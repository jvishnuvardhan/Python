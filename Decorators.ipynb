{
  "nbformat": 4,
  "nbformat_minor": 0,
  "metadata": {
    "colab": {
      "name": "Untitled220.ipynb",
      "provenance": [],
      "authorship_tag": "ABX9TyMlyZ8kGvWMW5sDAgfDj+An",
      "include_colab_link": true
    },
    "kernelspec": {
      "name": "python3",
      "display_name": "Python 3"
    },
    "language_info": {
      "name": "python"
    }
  },
  "cells": [
    {
      "cell_type": "markdown",
      "metadata": {
        "id": "view-in-github",
        "colab_type": "text"
      },
      "source": [
        "<a href=\"https://colab.research.google.com/github/jvishnuvardhan/Python/blob/master/Decorators.ipynb\" target=\"_parent\"><img src=\"https://colab.research.google.com/assets/colab-badge.svg\" alt=\"Open In Colab\"/></a>"
      ]
    },
    {
      "cell_type": "code",
      "metadata": {
        "id": "7j7Xe7zT6pbR"
      },
      "source": [
        "import time"
      ],
      "execution_count": 1,
      "outputs": []
    },
    {
      "cell_type": "code",
      "metadata": {
        "id": "vJtOulr96Xey"
      },
      "source": [
        "def time_it(func):\n",
        "  def wrapper(*args, **kwargs):\n",
        "    start = time.time()\n",
        "    result = func(*args, **kwargs)\n",
        "    end = time.time()\n",
        "    time_taken = (end-start)*1000\n",
        "    print(f'time_taken by {func} is {time_taken}')\n",
        "    return result\n",
        "  return wrapper\n",
        "@time_it\n",
        "def add(x,y):\n",
        "  return x+y\n",
        "\n",
        "@time_it\n",
        "def deduct(x,y):\n",
        "  return x-y\n",
        "\n"
      ],
      "execution_count": 23,
      "outputs": []
    },
    {
      "cell_type": "code",
      "metadata": {
        "id": "eYSjKCi17zjA"
      },
      "source": [
        "import numpy as np"
      ],
      "execution_count": 24,
      "outputs": []
    },
    {
      "cell_type": "code",
      "metadata": {
        "id": "22o7LtQY8wOM"
      },
      "source": [
        "a = np.arange(1,10000)*5\n",
        "b = np.arange(1,10000)"
      ],
      "execution_count": 25,
      "outputs": []
    },
    {
      "cell_type": "code",
      "metadata": {
        "colab": {
          "base_uri": "https://localhost:8080/"
        },
        "id": "zNnoGaI-9RZT",
        "outputId": "406f454d-4733-4790-b545-4cf8c95a674e"
      },
      "source": [
        "add(a,b)\n",
        "deduct(a,b)"
      ],
      "execution_count": 26,
      "outputs": [
        {
          "output_type": "stream",
          "name": "stdout",
          "text": [
            "time_taken by <function add at 0x7fbc600dc320> is 0.04744529724121094\n",
            "time_taken by <function deduct at 0x7fbc600ea710> is 0.03743171691894531\n"
          ]
        },
        {
          "output_type": "execute_result",
          "data": {
            "text/plain": [
              "array([    4,     8,    12, ..., 39988, 39992, 39996])"
            ]
          },
          "metadata": {},
          "execution_count": 26
        }
      ]
    },
    {
      "cell_type": "code",
      "metadata": {
        "id": "k3i-kEKI9dqW"
      },
      "source": [
        ""
      ],
      "execution_count": 19,
      "outputs": []
    }
  ]
}